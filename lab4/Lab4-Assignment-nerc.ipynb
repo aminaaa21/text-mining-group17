{
 "cells": [
  {
   "cell_type": "markdown",
   "metadata": {},
   "source": [
    "# Lab4-Assignment about Named Entity Recognition and Classification\n",
    "\n",
    "This notebook describes the assignment of Lab 4 of the text mining course. We assume you have succesfully completed Lab1, Lab2 and Lab3 as welll. Especially Lab2 is important for completing this assignment.\n",
    "\n",
    "**Learning goals**\n",
    "* going from linguistic input format to representing it in a feature space\n",
    "* working with pretrained word embeddings\n",
    "* train a supervised classifier (SVM)\n",
    "* evaluate a supervised classifier (SVM)\n",
    "* learn how to interpret the system output and the evaluation results\n",
    "* be able to propose future improvements based on the observed results\n"
   ]
  },
  {
   "cell_type": "markdown",
   "metadata": {},
   "source": [
    "## Credits\n",
    "This notebook was originally created by [Marten Postma](https://martenpostma.github.io) and [Filip Ilievski](http://ilievski.nl) and adapted by Piek vossen"
   ]
  },
  {
   "cell_type": "markdown",
   "metadata": {},
   "source": [
    "## [Points: 18] Exercise 1 (NERC): Training and evaluating an SVM using CoNLL-2003"
   ]
  },
  {
   "cell_type": "markdown",
   "metadata": {},
   "source": [
    "**[4 point] a) Load the CoNLL-2003 training data using the *ConllCorpusReader* and create for both *train.txt* and *test.txt*:**\n",
    "\n",
    "    [2 points]  -a list of dictionaries representing the features for each training instances, e..g,\n",
    "    ```\n",
    "    [\n",
    "    {'words': 'EU', 'pos': 'NNP'}, \n",
    "    {'words': 'rejects', 'pos': 'VBZ'},\n",
    "    ...\n",
    "    ]\n",
    "    ```\n",
    "\n",
    "    [2 points] -the NERC labels associated with each training instance, e.g.,\n",
    "    dictionaries, e.g.,\n",
    "    ```\n",
    "    [\n",
    "    'B-ORG', \n",
    "    'O',\n",
    "    ....\n",
    "    ]\n",
    "    ```"
   ]
  },
  {
   "cell_type": "code",
   "execution_count": null,
   "metadata": {},
   "outputs": [
    {
     "name": "stdout",
     "output_type": "stream",
     "text": [
      "[{'word': 'EU', 'pos': 'NNP'}, {'word': 'rejects', 'pos': 'VBZ'}, {'word': 'German', 'pos': 'JJ'}, {'word': 'call', 'pos': 'NN'}, {'word': 'to', 'pos': 'TO'}, {'word': 'boycott', 'pos': 'VB'}]\n",
      "['B-ORG', 'O', 'B-MISC', 'O', 'O', 'O']\n"
     ]
    }
   ],
   "source": [
    "from nltk.corpus.reader import ConllCorpusReader\n",
    "### Adapt the path to point to the CONLL2003 folder on your local machine\n",
    "train = ConllCorpusReader('/Users/Daniah/Downloads/ba-text-mining-master/ba-text-mining-master/lab_sessions/lab4/CONLL2003_extracted/CONLL2003', 'train.txt', ['words', 'pos', 'ignore', 'chunk'],encoding='utf8')\n",
    "\n",
    "\n",
    "training_features = []\n",
    "training_gold_labels = []\n",
    "\n",
    "for token, pos, ne_label in train.iob_words():\n",
    "    a_dict = {\n",
    "        \"word\": token,\n",
    "        \"pos\": pos,\n",
    "        # \"word_length\": len(token),\n",
    "        # \"is_upper\": token[0].isupper(),\n",
    "        # \"is_title\": token.istitle(),\n",
    "        # \"has_digit\": any(char.isdigit() for char in token),\n",
    "    }\n",
    "    \n",
    "    training_features.append(a_dict)     \n",
    "    training_gold_labels.append(ne_label)  \n",
    "\n",
    "\n",
    "print(training_features[:6])\n",
    "print(training_gold_labels[:6])\n",
    "   "
   ]
  },
  {
   "cell_type": "code",
   "execution_count": 12,
   "metadata": {},
   "outputs": [
    {
     "name": "stdout",
     "output_type": "stream",
     "text": [
      "[{'word': 'SOCCER', 'pos': 'NN'}, {'word': '-', 'pos': ':'}, {'word': 'JAPAN', 'pos': 'NNP'}, {'word': 'GET', 'pos': 'VB'}, {'word': 'LUCKY', 'pos': 'NNP'}, {'word': 'WIN', 'pos': 'NNP'}]\n",
      "['O', 'O', 'B-LOC', 'O', 'O', 'O']\n"
     ]
    }
   ],
   "source": [
    "\n",
    "train = ConllCorpusReader('/Users/Daniah/Downloads/ba-text-mining-master/ba-text-mining-master/lab_sessions/lab4/CONLL2003_extracted/CONLL2003', 'test.txt', ['words', 'pos', 'ignore', 'chunk'])\n",
    "\n",
    "test_features = []\n",
    "test_gold_labels = []\n",
    "for token, pos, ne_label in train.iob_words():\n",
    "    a_dict = {\n",
    "        \"word\": token,\n",
    "        \"pos\": pos,\n",
    "        \n",
    "    }\n",
    "    test_features.append(a_dict)        \n",
    "    test_gold_labels.append(ne_label) \n",
    "\n",
    "\n",
    "print(test_features[:6])\n",
    "print(test_gold_labels[:6])\n"
   ]
  },
  {
   "cell_type": "markdown",
   "metadata": {},
   "source": [
    "**[2 points] b) provide descriptive statistics about the training and test data:**\n",
    "* How many instances are in train and test?\n",
    "* Provide a frequency distribution of the NERC labels, i.e., how many times does each NERC label occur?\n",
    "* Discuss to what extent the training and test data is balanced (equal amount of instances for each NERC label) and to what extent the training and test data differ?\n",
    "\n",
    "Tip: you can use the following `Counter` functionality to generate frequency list of a list:"
   ]
  },
  {
   "cell_type": "code",
   "execution_count": null,
   "metadata": {},
   "outputs": [
    {
     "name": "stdout",
     "output_type": "stream",
     "text": [
      "Training Data Statistics:\n",
      "Total instances: 203621\n",
      "Frequency of NERC labels: Counter({'O': 169578, 'B-LOC': 7140, 'B-PER': 6600, 'B-ORG': 6321, 'I-PER': 4528, 'I-ORG': 3704, 'B-MISC': 3438, 'I-LOC': 1157, 'I-MISC': 1155})\n",
      "\n",
      "Test Data Statistics:\n",
      "Total instances: 46435\n",
      "Frequency of NERC labels: Counter({'O': 38323, 'B-LOC': 1668, 'B-ORG': 1661, 'B-PER': 1617, 'I-PER': 1156, 'I-ORG': 835, 'B-MISC': 702, 'I-LOC': 257, 'I-MISC': 216})\n",
      "\n"
     ]
    }
   ],
   "source": [
    "from collections import Counter\n",
    "\n",
    "train = ConllCorpusReader('/Users/Daniah/Downloads/ba-text-mining-master/ba-text-mining-master/lab_sessions/lab4/CONLL2003_extracted/CONLL2003', 'train.txt', ['words', 'pos', 'ignore', 'chunk'], encoding='utf8')\n",
    "test = ConllCorpusReader('/Users/Daniah/Downloads/ba-text-mining-master/ba-text-mining-master/lab_sessions/lab4/CONLL2003_extracted/CONLL2003', 'test.txt', ['words', 'pos', 'ignore', 'chunk'], encoding='utf8')\n",
    "\n",
    "# Extract NERC labels for train and test\n",
    "train_labels = [label for _, _, label in train.iob_words()]\n",
    "test_labels = [label for _, _, label in test.iob_words()]\n",
    "\n",
    "train_instances = len(train_labels)\n",
    "test_instances = len(test_labels)\n",
    "\n",
    "train_label_counts = Counter(train_labels)\n",
    "test_label_counts = Counter(test_labels)\n",
    "\n",
    "\n",
    "print(f\"Training Data Statistics:\")\n",
    "print(f\"Total instances: {train_instances}\")\n",
    "print(f\"Frequency of NERC labels: {train_label_counts}\")\n",
    "print()\n",
    "\n",
    "print(f\"Test Data Statistics:\")\n",
    "print(f\"Total instances: {test_instances}\")\n",
    "print(f\"Frequency of NERC labels: {test_label_counts}\")\n",
    "print()\n",
    "\n",
    "\n",
    "# I think there is a problem here because the labels are imbalanced??\n",
    "# O -> no name entity"
   ]
  },
  {
   "cell_type": "markdown",
   "metadata": {},
   "source": [
    "Discussing the balance of the dataset:(bullets points only need to write still)\n",
    "\n",
    "If labels have similar counts --> the dataset is balanced.\n",
    "\n",
    "if some labels are mor than the others --> the dataset is imbalanced."
   ]
  },
  {
   "cell_type": "markdown",
   "metadata": {},
   "source": [
    "**[2 points] c) Concatenate the train and test features (the list of dictionaries) into one list. Load it using the *DictVectorizer*. Afterwards, split it back to training and test.**\n",
    "\n",
    "Tip: You’ve concatenated train and test into one list and then you’ve applied the DictVectorizer.\n",
    "The order of the rows is maintained. You can hence use an index (number of training instances) to split the_array back into train and test. Do NOT use: `\n",
    "from sklearn.model_selection import train_test_split` here.\n"
   ]
  },
  {
   "cell_type": "code",
   "execution_count": null,
   "metadata": {},
   "outputs": [
    {
     "name": "stdout",
     "output_type": "stream",
     "text": [
      "Requirement already satisfied: scikit-learn in c:\\users\\daniah\\appdata\\local\\programs\\python\\python312\\lib\\site-packages (1.6.1)\n",
      "Requirement already satisfied: numpy>=1.19.5 in c:\\users\\daniah\\appdata\\local\\programs\\python\\python312\\lib\\site-packages (from scikit-learn) (2.2.3)\n",
      "Requirement already satisfied: scipy>=1.6.0 in c:\\users\\daniah\\appdata\\local\\programs\\python\\python312\\lib\\site-packages (from scikit-learn) (1.15.2)\n",
      "Requirement already satisfied: joblib>=1.2.0 in c:\\users\\daniah\\appdata\\local\\programs\\python\\python312\\lib\\site-packages (from scikit-learn) (1.4.2)\n",
      "Requirement already satisfied: threadpoolctl>=3.1.0 in c:\\users\\daniah\\appdata\\local\\programs\\python\\python312\\lib\\site-packages (from scikit-learn) (3.5.0)\n"
     ]
    },
    {
     "name": "stderr",
     "output_type": "stream",
     "text": [
      "\n",
      "[notice] A new release of pip is available: 23.2.1 -> 25.0.1\n",
      "[notice] To update, run: python.exe -m pip install --upgrade pip\n"
     ]
    }
   ],
   "source": [
    "\n",
    "from sklearn.feature_extraction import DictVectorizer"
   ]
  },
  {
   "cell_type": "code",
   "execution_count": null,
   "metadata": {},
   "outputs": [
    {
     "name": "stdout",
     "output_type": "stream",
     "text": [
      "The new array: <Compressed Sparse Row sparse matrix of dtype 'float64'\n",
      "\twith 500112 stored elements and shape (250056, 27361)>\n",
      "  Coords\tValues\n",
      "  (0, 20)\t1.0\n",
      "  (0, 7806)\t1.0\n",
      "  (1, 40)\t1.0\n",
      "  (1, 24281)\t1.0\n",
      "  (2, 14)\t1.0\n",
      "  (2, 8749)\t1.0\n",
      "  (3, 19)\t1.0\n",
      "  (3, 17663)\t1.0\n",
      "  (4, 33)\t1.0\n",
      "  (4, 26336)\t1.0\n",
      "  (5, 35)\t1.0\n",
      "  (5, 17485)\t1.0\n",
      "  (6, 14)\t1.0\n",
      "  (6, 6242)\t1.0\n",
      "  (7, 19)\t1.0\n",
      "  (7, 21607)\t1.0\n",
      "  (8, 6)\t1.0\n",
      "  (8, 178)\t1.0\n",
      "  (9, 20)\t1.0\n",
      "  (9, 12886)\t1.0\n",
      "  (10, 20)\t1.0\n",
      "  (10, 6023)\t1.0\n",
      "  (11, 20)\t1.0\n",
      "  (11, 5630)\t1.0\n",
      "  (12, 9)\t1.0\n",
      "  :\t:\n",
      "  (250043, 26194)\t1.0\n",
      "  (250044, 9)\t1.0\n",
      "  (250044, 1670)\t1.0\n",
      "  (250045, 20)\t1.0\n",
      "  (250045, 16161)\t1.0\n",
      "  (250046, 20)\t1.0\n",
      "  (250046, 7216)\t1.0\n",
      "  (250047, 14)\t1.0\n",
      "  (250047, 27215)\t1.0\n",
      "  (250048, 19)\t1.0\n",
      "  (250048, 26092)\t1.0\n",
      "  (250049, 13)\t1.0\n",
      "  (250049, 27230)\t1.0\n",
      "  (250050, 27)\t1.0\n",
      "  (250050, 20863)\t1.0\n",
      "  (250051, 15)\t1.0\n",
      "  (250051, 27345)\t1.0\n",
      "  (250052, 19)\t1.0\n",
      "  (250052, 17567)\t1.0\n",
      "  (250053, 5)\t1.0\n",
      "  (250053, 166)\t1.0\n",
      "  (250054, 20)\t1.0\n",
      "  (250054, 6058)\t1.0\n",
      "  (250055, 6)\t1.0\n",
      "  (250055, 178)\t1.0\n"
     ]
    }
   ],
   "source": [
    "\n",
    "vec = DictVectorizer()\n",
    "all_features = training_features + test_features\n",
    "\n",
    "the_array = vec.fit_transform(all_features)  \n",
    "print(\"The new array:\", the_array)\n"
   ]
  },
  {
   "cell_type": "markdown",
   "metadata": {},
   "source": [
    "**[4 points] d) Train the SVM using the train features and labels and evaluate on the test data. Provide a classification report (sklearn.metrics.classification_report).**\n",
    "The train (*lin_clf.fit*) might take a while. On my computer, it took 1min 53s, which is acceptable. Training models normally takes much longer. If it takes more than 5 minutes, you can use a subset for training. Describe the results:\n",
    "* Which NERC labels does the classifier perform well on? Why do you think this is the case?\n",
    "* Which NERC labels does the classifier perform poorly on? Why do you think this is the case?"
   ]
  },
  {
   "cell_type": "code",
   "execution_count": null,
   "metadata": {},
   "outputs": [],
   "source": [
    "from sklearn import svm"
   ]
  },
  {
   "cell_type": "code",
   "execution_count": null,
   "metadata": {},
   "outputs": [],
   "source": [
    "lin_clf = svm.LinearSVC()"
   ]
  },
  {
   "cell_type": "code",
   "execution_count": null,
   "metadata": {},
   "outputs": [],
   "source": [
    "##### [ YOUR CODE SHOULD GO HERE ]\n",
    "# lin_clf.fit( # your code here"
   ]
  },
  {
   "cell_type": "markdown",
   "metadata": {},
   "source": [
    "**[6 points] e) Train a model that uses the embeddings of these words as inputs. Test again on the same data as in 2d. Generate a classification report and compare the results with the classifier you built in 2d.**"
   ]
  },
  {
   "cell_type": "code",
   "execution_count": null,
   "metadata": {},
   "outputs": [],
   "source": [
    "# your code here"
   ]
  },
  {
   "cell_type": "markdown",
   "metadata": {},
   "source": [
    "## [Points: 10] Exercise 2 (NERC): feature inspection using the [Annotated Corpus for Named Entity Recognition](https://www.kaggle.com/abhinavwalia95/entity-annotated-corpus)\n",
    "**[6 points] a. Perform the same steps as in the previous exercise. Make sure you end up for both the training part (*df_train*) and the test part (*df_test*) with:**\n",
    "* the features representation using **DictVectorizer**\n",
    "* the NERC labels in a list\n",
    "\n",
    "Please note that this is the same setup as in the previous exercise:\n",
    "* load both train and test using:\n",
    "    * list of dictionaries for features\n",
    "    * list of NERC labels\n",
    "* combine train and test features in a list and represent them using one hot encoding\n",
    "* train using the training features and NERC labels"
   ]
  },
  {
   "cell_type": "code",
   "execution_count": null,
   "metadata": {},
   "outputs": [],
   "source": [
    "import pandas"
   ]
  },
  {
   "cell_type": "code",
   "execution_count": null,
   "metadata": {},
   "outputs": [],
   "source": [
    "##### Adapt the path to point to your local copy of NERC_datasets\n",
    "path = '/Users/piek/Desktop/ONDERWIJS/data/nerc_datasets/kaggle/ner_v2.csv'\n",
    "kaggle_dataset = pandas.read_csv(path, error_bad_lines=False)"
   ]
  },
  {
   "cell_type": "code",
   "execution_count": null,
   "metadata": {},
   "outputs": [],
   "source": [
    "len(kaggle_dataset)"
   ]
  },
  {
   "cell_type": "code",
   "execution_count": null,
   "metadata": {},
   "outputs": [],
   "source": [
    "df_train = kaggle_dataset[:100000]\n",
    "df_test = kaggle_dataset[100000:120000]\n",
    "print(len(df_train), len(df_test))"
   ]
  },
  {
   "cell_type": "markdown",
   "metadata": {},
   "source": [
    "**[4 points] b. Train and evaluate the model and provide the classification report:**\n",
    "* use the SVM to predict NERC labels on the test data\n",
    "* evaluate the performance of the SVM on the test data\n",
    "\n",
    "Analyze the performance per NERC label."
   ]
  },
  {
   "cell_type": "markdown",
   "metadata": {},
   "source": [
    "## End of this notebook"
   ]
  }
 ],
 "metadata": {
  "kernelspec": {
   "display_name": "Python 3",
   "language": "python",
   "name": "python3"
  },
  "language_info": {
   "codemirror_mode": {
    "name": "ipython",
    "version": 3
   },
   "file_extension": ".py",
   "mimetype": "text/x-python",
   "name": "python",
   "nbconvert_exporter": "python",
   "pygments_lexer": "ipython3",
   "version": "3.12.0"
  }
 },
 "nbformat": 4,
 "nbformat_minor": 4
}
